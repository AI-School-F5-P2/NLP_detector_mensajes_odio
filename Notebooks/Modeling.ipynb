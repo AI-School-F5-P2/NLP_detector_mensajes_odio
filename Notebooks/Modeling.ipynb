{
  "cells": [
    {
      "cell_type": "markdown",
      "metadata": {
        "id": "3Yj6KNFPILQw",
        "cell_id": "6f1e0cce9161420394bd48f2978ff5fe",
        "deepnote_cell_type": "markdown"
      },
      "source": [
        "# **Objetivo del notebook**"
      ]
    },
    {
      "cell_type": "markdown",
      "metadata": {
        "id": "XZRrPOJlILQ4",
        "cell_id": "7f9d4fca45fa468e992a64dad913ce49",
        "deepnote_cell_type": "markdown"
      },
      "source": [
        "En esta etapa ya hemos decidido el tipo de limpieza más óptima, y hemos elegido nuestra variable objetivo.\n",
        "\n",
        "Cargaremos el dataset que limpiamos en Cleaning.ipynb, y probaremos distintos parámetros en tfidf y en algún modelo de ensemble para intentar conseguir un overfitting inferior al 5%.\n",
        "\n"
      ]
    },
    {
      "cell_type": "markdown",
      "metadata": {
        "id": "xBFwe5r1ILQ6",
        "cell_id": "553ecf132ca44c9284800e1e72c41ea5",
        "deepnote_cell_type": "markdown"
      },
      "source": [
        "# **Contenido del Notebook**"
      ]
    },
    {
      "cell_type": "markdown",
      "metadata": {
        "id": "LVrJrSDyILQ7",
        "cell_id": "64e8866658c2418c816e4d5bd106d88f",
        "deepnote_cell_type": "markdown"
      },
      "source": [
        "1. Búsqueda de hiperparámetros (pruebas)\n",
        "2. Pipeline con vectorización TF-IDF y modelo\n",
        "3. Métricas\n",
        "4. Conclusiones"
      ]
    },
    {
      "cell_type": "markdown",
      "source": [
        "#### **Instalaciones por si ejecutas el notebook desde deepnote, o google colab y no creas tu propio entorno virtual**\n",
        "\n",
        "Por defecto las dejamos comentadas. Quitar el '#' si se desea usarlas."
      ],
      "metadata": {
        "id": "9bJm1m-YcPFs"
      }
    },
    {
      "cell_type": "code",
      "source": [
        "#!pip install optuna > /dev/null 2>&1"
      ],
      "metadata": {
        "id": "KQhcSDr4OezC"
      },
      "execution_count": null,
      "outputs": []
    },
    {
      "cell_type": "code",
      "source": [
        "#!pip xgboost > /dev/null 2>&1"
      ],
      "metadata": {
        "id": "ZCHQNXE0cmBO"
      },
      "execution_count": null,
      "outputs": []
    },
    {
      "cell_type": "code",
      "metadata": {
        "id": "x6zgA9fTILRA",
        "source_hash": null,
        "execution_start": 1700224017762,
        "execution_millis": 6466,
        "deepnote_to_be_reexecuted": false,
        "cell_id": "d8d774faa8f24b92bfbbac7891b41c60",
        "deepnote_cell_type": "code"
      },
      "source": [
        "# Data analysis libraries\n",
        "import pandas as pd\n",
        "\n",
        "# Machine learning libraries\n",
        "from sklearn.pipeline import Pipeline\n",
        "from sklearn.model_selection import train_test_split\n",
        "from sklearn.feature_extraction.text import TfidfVectorizer\n",
        "from xgboost import XGBClassifier\n",
        "from sklearn.metrics import classification_report, accuracy_score\n",
        "import pickle\n",
        "import optuna\n"
      ],
      "execution_count": null,
      "outputs": []
    },
    {
      "cell_type": "code",
      "metadata": {
        "id": "E2EYCUW4ILRD",
        "source_hash": null,
        "execution_start": 1700224024214,
        "execution_millis": 204,
        "deepnote_to_be_reexecuted": false,
        "cell_id": "2ac3497c6de54431a16faad950e9292c",
        "deepnote_cell_type": "code"
      },
      "source": [
        "# read csv file\n",
        "path = \"/content/cleaned_youtoxic.csv\"\n",
        "df = pd.read_csv(path)"
      ],
      "execution_count": null,
      "outputs": []
    },
    {
      "cell_type": "markdown",
      "metadata": {
        "id": "8Q4di1YpILRb",
        "cell_id": "0dfa4f82563f4801bb5fa5a7753b04ef",
        "deepnote_cell_type": "markdown"
      },
      "source": [
        "### **1. Pipeline con vectorización TF-IDF y modelo**"
      ]
    },
    {
      "cell_type": "code",
      "metadata": {
        "id": "QcYrK3yGucbf",
        "source_hash": null,
        "execution_start": 1700224060466,
        "execution_millis": 55,
        "deepnote_to_be_reexecuted": false,
        "cell_id": "6f3ec888607e40a39bde163f40f35b2a",
        "deepnote_cell_type": "code"
      },
      "source": [
        "# Preparación de datos para el modelo\n",
        "X = df['Text']\n",
        "y = df['IsToxic']"
      ],
      "execution_count": null,
      "outputs": []
    },
    {
      "cell_type": "code",
      "source": [
        "# Creamos un pipeline con TfidfVectorizer y XGBClassifier donde iremos actualizando los hiperparámetros que saquemos más abajo\n",
        "pipeline_model = Pipeline([\n",
        "    ('vectorizer', TfidfVectorizer(max_features=4000, ngram_range=(1, 3), min_df=3, max_df=0.1, sublinear_tf=True, stop_words='english')),\n",
        "    ('classifier', XGBClassifier(learning_rate=0.04, subsample=0.8, max_depth=3, n_estimators=100))\n",
        "])"
      ],
      "metadata": {
        "id": "KOr3Gv4mcNeP"
      },
      "execution_count": null,
      "outputs": []
    },
    {
      "cell_type": "code",
      "metadata": {
        "id": "oc2PDv6YvDXj",
        "colab": {
          "height": 125,
          "base_uri": "https://localhost:8080/"
        },
        "outputId": "d4b79138-deb5-4a0e-d37c-b7c6b95d00e8",
        "source_hash": null,
        "execution_start": 1700224060490,
        "execution_millis": 505,
        "deepnote_to_be_reexecuted": false,
        "cell_id": "66e72f45ffd64948af5567161859050d",
        "deepnote_cell_type": "code"
      },
      "source": [
        "# División de los datos en conjunto de entrenamiento y prueba\n",
        "X_train, X_test, y_train, y_test = train_test_split(X, y, test_size=0.2, random_state=42, stratify=y)\n",
        "\n",
        "# Entrenamos el modelo con el pipeline\n",
        "pipeline_model.fit(X_train, y_train)"
      ],
      "execution_count": null,
      "outputs": [
        {
          "output_type": "execute_result",
          "data": {
            "text/plain": [
              "Pipeline(steps=[('vectorizer',\n",
              "                 TfidfVectorizer(max_df=0.1, max_features=4000, min_df=3,\n",
              "                                 ngram_range=(1, 3), stop_words='english',\n",
              "                                 sublinear_tf=True)),\n",
              "                ('classifier',\n",
              "                 XGBClassifier(base_score=None, booster=None, callbacks=None,\n",
              "                               colsample_bylevel=None, colsample_bynode=None,\n",
              "                               colsample_bytree=None, device=None,\n",
              "                               early_stopping_rounds=None,\n",
              "                               enable_categorical=False, eval...\n",
              "                               feature_types=None, gamma=None, grow_policy=None,\n",
              "                               importance_type=None,\n",
              "                               interaction_constraints=None, learning_rate=0.04,\n",
              "                               max_bin=None, max_cat_threshold=None,\n",
              "                               max_cat_to_onehot=None, max_delta_step=None,\n",
              "                               max_depth=3, max_leaves=None,\n",
              "                               min_child_weight=None, missing=nan,\n",
              "                               monotone_constraints=None, multi_strategy=None,\n",
              "                               n_estimators=100, n_jobs=None,\n",
              "                               num_parallel_tree=None, random_state=None, ...))])"
            ],
            "text/html": [
              "<style>#sk-container-id-1 {color: black;background-color: white;}#sk-container-id-1 pre{padding: 0;}#sk-container-id-1 div.sk-toggleable {background-color: white;}#sk-container-id-1 label.sk-toggleable__label {cursor: pointer;display: block;width: 100%;margin-bottom: 0;padding: 0.3em;box-sizing: border-box;text-align: center;}#sk-container-id-1 label.sk-toggleable__label-arrow:before {content: \"▸\";float: left;margin-right: 0.25em;color: #696969;}#sk-container-id-1 label.sk-toggleable__label-arrow:hover:before {color: black;}#sk-container-id-1 div.sk-estimator:hover label.sk-toggleable__label-arrow:before {color: black;}#sk-container-id-1 div.sk-toggleable__content {max-height: 0;max-width: 0;overflow: hidden;text-align: left;background-color: #f0f8ff;}#sk-container-id-1 div.sk-toggleable__content pre {margin: 0.2em;color: black;border-radius: 0.25em;background-color: #f0f8ff;}#sk-container-id-1 input.sk-toggleable__control:checked~div.sk-toggleable__content {max-height: 200px;max-width: 100%;overflow: auto;}#sk-container-id-1 input.sk-toggleable__control:checked~label.sk-toggleable__label-arrow:before {content: \"▾\";}#sk-container-id-1 div.sk-estimator input.sk-toggleable__control:checked~label.sk-toggleable__label {background-color: #d4ebff;}#sk-container-id-1 div.sk-label input.sk-toggleable__control:checked~label.sk-toggleable__label {background-color: #d4ebff;}#sk-container-id-1 input.sk-hidden--visually {border: 0;clip: rect(1px 1px 1px 1px);clip: rect(1px, 1px, 1px, 1px);height: 1px;margin: -1px;overflow: hidden;padding: 0;position: absolute;width: 1px;}#sk-container-id-1 div.sk-estimator {font-family: monospace;background-color: #f0f8ff;border: 1px dotted black;border-radius: 0.25em;box-sizing: border-box;margin-bottom: 0.5em;}#sk-container-id-1 div.sk-estimator:hover {background-color: #d4ebff;}#sk-container-id-1 div.sk-parallel-item::after {content: \"\";width: 100%;border-bottom: 1px solid gray;flex-grow: 1;}#sk-container-id-1 div.sk-label:hover label.sk-toggleable__label {background-color: #d4ebff;}#sk-container-id-1 div.sk-serial::before {content: \"\";position: absolute;border-left: 1px solid gray;box-sizing: border-box;top: 0;bottom: 0;left: 50%;z-index: 0;}#sk-container-id-1 div.sk-serial {display: flex;flex-direction: column;align-items: center;background-color: white;padding-right: 0.2em;padding-left: 0.2em;position: relative;}#sk-container-id-1 div.sk-item {position: relative;z-index: 1;}#sk-container-id-1 div.sk-parallel {display: flex;align-items: stretch;justify-content: center;background-color: white;position: relative;}#sk-container-id-1 div.sk-item::before, #sk-container-id-1 div.sk-parallel-item::before {content: \"\";position: absolute;border-left: 1px solid gray;box-sizing: border-box;top: 0;bottom: 0;left: 50%;z-index: -1;}#sk-container-id-1 div.sk-parallel-item {display: flex;flex-direction: column;z-index: 1;position: relative;background-color: white;}#sk-container-id-1 div.sk-parallel-item:first-child::after {align-self: flex-end;width: 50%;}#sk-container-id-1 div.sk-parallel-item:last-child::after {align-self: flex-start;width: 50%;}#sk-container-id-1 div.sk-parallel-item:only-child::after {width: 0;}#sk-container-id-1 div.sk-dashed-wrapped {border: 1px dashed gray;margin: 0 0.4em 0.5em 0.4em;box-sizing: border-box;padding-bottom: 0.4em;background-color: white;}#sk-container-id-1 div.sk-label label {font-family: monospace;font-weight: bold;display: inline-block;line-height: 1.2em;}#sk-container-id-1 div.sk-label-container {text-align: center;}#sk-container-id-1 div.sk-container {/* jupyter's `normalize.less` sets `[hidden] { display: none; }` but bootstrap.min.css set `[hidden] { display: none !important; }` so we also need the `!important` here to be able to override the default hidden behavior on the sphinx rendered scikit-learn.org. See: https://github.com/scikit-learn/scikit-learn/issues/21755 */display: inline-block !important;position: relative;}#sk-container-id-1 div.sk-text-repr-fallback {display: none;}</style><div id=\"sk-container-id-1\" class=\"sk-top-container\"><div class=\"sk-text-repr-fallback\"><pre>Pipeline(steps=[(&#x27;vectorizer&#x27;,\n",
              "                 TfidfVectorizer(max_df=0.1, max_features=4000, min_df=3,\n",
              "                                 ngram_range=(1, 3), stop_words=&#x27;english&#x27;,\n",
              "                                 sublinear_tf=True)),\n",
              "                (&#x27;classifier&#x27;,\n",
              "                 XGBClassifier(base_score=None, booster=None, callbacks=None,\n",
              "                               colsample_bylevel=None, colsample_bynode=None,\n",
              "                               colsample_bytree=None, device=None,\n",
              "                               early_stopping_rounds=None,\n",
              "                               enable_categorical=False, eval...\n",
              "                               feature_types=None, gamma=None, grow_policy=None,\n",
              "                               importance_type=None,\n",
              "                               interaction_constraints=None, learning_rate=0.04,\n",
              "                               max_bin=None, max_cat_threshold=None,\n",
              "                               max_cat_to_onehot=None, max_delta_step=None,\n",
              "                               max_depth=3, max_leaves=None,\n",
              "                               min_child_weight=None, missing=nan,\n",
              "                               monotone_constraints=None, multi_strategy=None,\n",
              "                               n_estimators=100, n_jobs=None,\n",
              "                               num_parallel_tree=None, random_state=None, ...))])</pre><b>In a Jupyter environment, please rerun this cell to show the HTML representation or trust the notebook. <br />On GitHub, the HTML representation is unable to render, please try loading this page with nbviewer.org.</b></div><div class=\"sk-container\" hidden><div class=\"sk-item sk-dashed-wrapped\"><div class=\"sk-label-container\"><div class=\"sk-label sk-toggleable\"><input class=\"sk-toggleable__control sk-hidden--visually\" id=\"sk-estimator-id-1\" type=\"checkbox\" ><label for=\"sk-estimator-id-1\" class=\"sk-toggleable__label sk-toggleable__label-arrow\">Pipeline</label><div class=\"sk-toggleable__content\"><pre>Pipeline(steps=[(&#x27;vectorizer&#x27;,\n",
              "                 TfidfVectorizer(max_df=0.1, max_features=4000, min_df=3,\n",
              "                                 ngram_range=(1, 3), stop_words=&#x27;english&#x27;,\n",
              "                                 sublinear_tf=True)),\n",
              "                (&#x27;classifier&#x27;,\n",
              "                 XGBClassifier(base_score=None, booster=None, callbacks=None,\n",
              "                               colsample_bylevel=None, colsample_bynode=None,\n",
              "                               colsample_bytree=None, device=None,\n",
              "                               early_stopping_rounds=None,\n",
              "                               enable_categorical=False, eval...\n",
              "                               feature_types=None, gamma=None, grow_policy=None,\n",
              "                               importance_type=None,\n",
              "                               interaction_constraints=None, learning_rate=0.04,\n",
              "                               max_bin=None, max_cat_threshold=None,\n",
              "                               max_cat_to_onehot=None, max_delta_step=None,\n",
              "                               max_depth=3, max_leaves=None,\n",
              "                               min_child_weight=None, missing=nan,\n",
              "                               monotone_constraints=None, multi_strategy=None,\n",
              "                               n_estimators=100, n_jobs=None,\n",
              "                               num_parallel_tree=None, random_state=None, ...))])</pre></div></div></div><div class=\"sk-serial\"><div class=\"sk-item\"><div class=\"sk-estimator sk-toggleable\"><input class=\"sk-toggleable__control sk-hidden--visually\" id=\"sk-estimator-id-2\" type=\"checkbox\" ><label for=\"sk-estimator-id-2\" class=\"sk-toggleable__label sk-toggleable__label-arrow\">TfidfVectorizer</label><div class=\"sk-toggleable__content\"><pre>TfidfVectorizer(max_df=0.1, max_features=4000, min_df=3, ngram_range=(1, 3),\n",
              "                stop_words=&#x27;english&#x27;, sublinear_tf=True)</pre></div></div></div><div class=\"sk-item\"><div class=\"sk-estimator sk-toggleable\"><input class=\"sk-toggleable__control sk-hidden--visually\" id=\"sk-estimator-id-3\" type=\"checkbox\" ><label for=\"sk-estimator-id-3\" class=\"sk-toggleable__label sk-toggleable__label-arrow\">XGBClassifier</label><div class=\"sk-toggleable__content\"><pre>XGBClassifier(base_score=None, booster=None, callbacks=None,\n",
              "              colsample_bylevel=None, colsample_bynode=None,\n",
              "              colsample_bytree=None, device=None, early_stopping_rounds=None,\n",
              "              enable_categorical=False, eval_metric=None, feature_types=None,\n",
              "              gamma=None, grow_policy=None, importance_type=None,\n",
              "              interaction_constraints=None, learning_rate=0.04, max_bin=None,\n",
              "              max_cat_threshold=None, max_cat_to_onehot=None,\n",
              "              max_delta_step=None, max_depth=3, max_leaves=None,\n",
              "              min_child_weight=None, missing=nan, monotone_constraints=None,\n",
              "              multi_strategy=None, n_estimators=100, n_jobs=None,\n",
              "              num_parallel_tree=None, random_state=None, ...)</pre></div></div></div></div></div></div></div>"
            ]
          },
          "metadata": {},
          "execution_count": 7
        }
      ]
    },
    {
      "cell_type": "markdown",
      "source": [
        "### **2. Métricas**"
      ],
      "metadata": {
        "id": "ivGn7hkzNRzP"
      }
    },
    {
      "cell_type": "code",
      "metadata": {
        "id": "fuhGVwGTZ-wm",
        "source_hash": null,
        "execution_start": 1700224061014,
        "execution_millis": 37,
        "deepnote_to_be_reexecuted": false,
        "cell_id": "0b174ef87313433b9ea5828232602241",
        "deepnote_cell_type": "code"
      },
      "source": [
        "# Realizamos predicciones en conjunto de prueba\n",
        "y_test_pred = pipeline_model.predict(X_test)\n",
        "\n",
        "# Realizamos predicciones en conjunto de entrenamiento\n",
        "y_train_pred = pipeline_model.predict(X_train)"
      ],
      "execution_count": null,
      "outputs": []
    },
    {
      "cell_type": "code",
      "metadata": {
        "id": "xPGBNvqFaBN6",
        "colab": {
          "base_uri": "https://localhost:8080/"
        },
        "outputId": "89c9314b-f191-43f4-cf03-5a01bf55ee0b",
        "source_hash": null,
        "execution_start": 1700224061064,
        "execution_millis": 37,
        "deepnote_to_be_reexecuted": false,
        "cell_id": "342f089fb5324284a821cc331fc49d50",
        "deepnote_cell_type": "code"
      },
      "source": [
        "# Imprimimos el classification report y accuracy en conjunto de prueba\n",
        "print(\"Classification Report en conjunto de prueba:\")\n",
        "print(classification_report(y_test, y_test_pred))\n",
        "print(f\"Accuracy en conjunto de prueba: {accuracy_score(y_test, y_test_pred):.4f}\")\n",
        "\n",
        "# Calculamos y imprimimos el accuracy en conjunto de entrenamiento\n",
        "accuracy_train = accuracy_score(y_train, y_train_pred)\n",
        "print(f\"Accuracy en conjunto de entrenamiento: {accuracy_train:.4f}\")\n",
        "\n",
        "# Calculamos e imprimimos el porcentaje de overfitting\n",
        "overfitting_percentage = (accuracy_train - accuracy_score(y_test, y_test_pred)) * 100\n",
        "print(f\"Porcentaje de Overfitting: {overfitting_percentage:.2f}%\")"
      ],
      "execution_count": null,
      "outputs": [
        {
          "output_type": "stream",
          "name": "stdout",
          "text": [
            "Classification Report en conjunto de prueba:\n",
            "              precision    recall  f1-score   support\n",
            "\n",
            "       False       0.65      0.94      0.77       108\n",
            "        True       0.84      0.41      0.55        92\n",
            "\n",
            "    accuracy                           0.69       200\n",
            "   macro avg       0.75      0.67      0.66       200\n",
            "weighted avg       0.74      0.69      0.67       200\n",
            "\n",
            "Accuracy en conjunto de prueba: 0.6950\n",
            "Accuracy en conjunto de entrenamiento: 0.7422\n",
            "Porcentaje de Overfitting: 4.72%\n"
          ]
        }
      ]
    },
    {
      "cell_type": "markdown",
      "source": [
        "**Mejores métricas**\n",
        "\n",
        "Accuracy en conjunto de prueba: 0.6950\n",
        "\n",
        "Accuracy en conjunto de entrenamiento: 0.7422\n",
        "\n",
        "Porcentaje de Overfitting: 4.72%\n",
        "\n",
        "**Mejores parámetros:**\n",
        "\n",
        "- De tfidf:\n",
        "\n",
        "max_features=4000, ngram_range=(1, 3), min_df=3, max_df=0.1, sublinear_tf=True, stop_words='english'\n",
        "\n",
        "- De XGBClassifier:\n",
        "\n",
        "learning_rate=0.04, subsample=0.8, max_depth=3, n_estimators=100"
      ],
      "metadata": {
        "id": "QXauvZWL5iQh"
      }
    },
    {
      "cell_type": "markdown",
      "source": [
        "#### **Guardamos en un pickle el modelo definitivo**"
      ],
      "metadata": {
        "id": "R_Qwz6YsTynv"
      }
    },
    {
      "cell_type": "markdown",
      "source": [
        "Lo dejamos comentado hasta que tengamos el modelo definitivo"
      ],
      "metadata": {
        "id": "qgYITmrCcScI"
      }
    },
    {
      "cell_type": "code",
      "source": [
        "#pickle.dump(pipeline_model, open('modelo.pkl', 'wb'))"
      ],
      "metadata": {
        "id": "7pXmGqGfTyIs"
      },
      "execution_count": null,
      "outputs": []
    },
    {
      "cell_type": "markdown",
      "source": [
        "### **3. Búsqueda de hiperparámetros (pruebas)**"
      ],
      "metadata": {
        "id": "3uZL5SdZNsjb"
      }
    },
    {
      "cell_type": "markdown",
      "source": [
        "#### **3.1. Búsqueda de hiperparámetros sólo en TF-IDF**"
      ],
      "metadata": {
        "id": "1BiUQGmKOQ2B"
      }
    },
    {
      "cell_type": "code",
      "source": [
        "# Preparación de datos para el modelo\n",
        "X = df['Text']\n",
        "y = df['IsToxic']\n",
        "\n",
        "# División de los datos en conjunto de entrenamiento y prueba\n",
        "X_train, X_test, y_train, y_test = train_test_split(X, y, test_size=0.2, random_state=42, stratify=y)\n",
        "\n",
        "# Define el espacio de búsqueda para los hiperparámetros de tfidf\n",
        "def objective(trial):\n",
        "    # Define el pipeline con TfidfVectorizer y GradientBoostingClassifier\n",
        "    pipeline_model = Pipeline([\n",
        "        ('vectorizer', TfidfVectorizer(\n",
        "            max_features=trial.suggest_categorical('max_features', [500, 1000, 4000,5000]),\n",
        "            ngram_range=trial.suggest_categorical('ngram_range', [(1, 1), (1, 2), (1, 3), (1, 4)]),\n",
        "            min_df=trial.suggest_int('min_df', 1, 5),\n",
        "            max_df=trial.suggest_float('max_df', 0.8, 1.0),\n",
        "            sublinear_tf=trial.suggest_categorical('sublinear_tf', [False, True]),\n",
        "            stop_words=trial.suggest_categorical('stop_words', [None, 'english'])\n",
        "        )),\n",
        "        ('classifier', XGBClassifier())\n",
        "    ])\n",
        "\n",
        "    # Entrenar el modelo\n",
        "    pipeline_model.fit(X_train, y_train)\n",
        "\n",
        "    # Realizar predicciones en conjunto de prueba\n",
        "    y_test_pred = pipeline_model.predict(X_test)\n",
        "\n",
        "    # Calcular y devolver la inversa de la precisión como valor a minimizar\n",
        "    return 1.0 / accuracy_score(y_test, y_test_pred)\n",
        "\n",
        "# Configuración de Optuna\n",
        "study = optuna.create_study(direction='minimize')  # Queremos minimizar la inversa de la precisión\n",
        "study.optimize(objective, n_trials=1000)  # Ajusta n_trials según tus recursos\n",
        "\n",
        "# Imprimir los mejores parámetros encontrados\n",
        "print(\"Mejores parámetros encontrados:\")\n",
        "print(study.best_params)"
      ],
      "metadata": {
        "id": "NRaAifZ0S7Dd"
      },
      "execution_count": null,
      "outputs": []
    },
    {
      "cell_type": "markdown",
      "source": [
        "**Mejores parámetros:**\n",
        "\n",
        "max_features=4000,\n",
        "\n",
        "ngram_range=(1, 3),\n",
        "\n",
        "min_df=3, max_df=0.1,\n",
        "\n",
        "sublinear_tf=True,\n",
        "\n",
        "stop_words='english'"
      ],
      "metadata": {
        "id": "1_rZIuJ5TEJt"
      }
    },
    {
      "cell_type": "markdown",
      "source": [
        "#### **3.2. Búsqueda de hiperparámetros sólo en XGBClassifier**"
      ],
      "metadata": {
        "id": "rD55YeWQOq7w"
      }
    },
    {
      "cell_type": "code",
      "source": [
        "\n",
        "# Preparación de datos para el modelo\n",
        "X = df['Text']\n",
        "y = df['IsToxic']\n",
        "\n",
        "# División de los datos en conjunto de entrenamiento y prueba\n",
        "X_train, X_test, y_train, y_test = train_test_split(X, y, test_size=0.2, random_state=42, stratify=y)\n",
        "\n",
        "# Define el espacio de búsqueda para los hiperparámetros del GradientBoostingClassifier\n",
        "def objective(trial):\n",
        "    # Define el pipeline con TfidfVectorizer y GradientBoostingClassifier\n",
        "    pipeline_model = Pipeline([\n",
        "        ('vectorizer', TfidfVectorizer(\n",
        "            max_features=4000,\n",
        "            ngram_range=(1, 3),\n",
        "            min_df=3, max_df=0.1,\n",
        "            sublinear_tf=True,\n",
        "            stop_words='english'\n",
        "        )),\n",
        "        ('classifier', XGBClassifier(\n",
        "            learning_rate=trial.suggest_float('learning_rate', 0.01, 0.2, log=True),\n",
        "            subsample=trial.suggest_float('subsample', 0.6, 1.0),\n",
        "            max_depth=trial.suggest_int('max_depth', 3, 7),\n",
        "            n_estimators=trial.suggest_categorical('n_estimators', [50, 100, 200])\n",
        "        )),\n",
        "    ])\n",
        "\n",
        "    # Entrenar el modelo\n",
        "    pipeline_model.fit(X_train, y_train)\n",
        "\n",
        "    # Realizar predicciones en conjunto de prueba\n",
        "    y_test_pred = pipeline_model.predict(X_test)\n",
        "\n",
        "    # Calcular y devolver la inversa de la precisión como valor a minimizar\n",
        "    return 1.0 / accuracy_score(y_test, y_test_pred)\n",
        "\n",
        "# Configuración de Optuna\n",
        "study = optuna.create_study(direction='minimize')  # Queremos minimizar la inversa de la precisión\n",
        "study.optimize(objective, n_trials=1000)  # Ajusta n_trials según tus recursos\n",
        "\n",
        "# Imprimir los mejores parámetros encontrados\n",
        "print(\"Mejores parámetros encontrados:\")\n",
        "print(study.best_params)"
      ],
      "metadata": {
        "id": "8xTUFCnwO_IY"
      },
      "execution_count": null,
      "outputs": []
    },
    {
      "cell_type": "markdown",
      "source": [
        "**Mejores parámetros:**\n",
        "\n",
        "learning_rate=0.04,\n",
        "\n",
        "subsample=0.8,\n",
        "\n",
        "max_depth=3,\n",
        "\n",
        "n_estimators=100"
      ],
      "metadata": {
        "id": "MMAYQBz6TQrL"
      }
    },
    {
      "cell_type": "markdown",
      "source": [
        "#### **3.3. Búsqueda de hiperparámetros en TF-IDF y XGBClassifier a la vez**"
      ],
      "metadata": {
        "id": "kPpMtg1-Owkw"
      }
    },
    {
      "cell_type": "code",
      "source": [
        "# Supongamos que tienes un DataFrame df con columnas 'Text' y 'IsToxic'\n",
        "\n",
        "# Define el espacio de búsqueda para los hiperparámetros\n",
        "def objective(trial):\n",
        "    # Preparación de datos para el modelo\n",
        "    X = df['Text']\n",
        "    y = df['IsToxic']\n",
        "\n",
        "    # División de los datos en conjunto de entrenamiento y prueba\n",
        "    X_train, X_test, y_train, y_test = train_test_split(X, y, test_size=0.2, random_state=42, stratify=y)\n",
        "\n",
        "    # Define el pipeline con TfidfVectorizer y GradientBoostingClassifier\n",
        "    class LogUniformDistribution(optuna.distributions.UniformDistribution):\n",
        "        def to_external_repr(self, x):\n",
        "            return np.exp(x)\n",
        "\n",
        "        def to_internal_repr(self, x):\n",
        "            return np.log(x)\n",
        "\n",
        "    pipeline_model = Pipeline([\n",
        "        ('vectorizer', TfidfVectorizer(\n",
        "            max_features=trial.suggest_categorical('max_features', [500, 1000, 4000,5000]),\n",
        "            ngram_range=trial.suggest_categorical('ngram_range', [(1, 1), (1, 2), (1, 3), (1, 4)]),\n",
        "            min_df=trial.suggest_int('min_df', 1, 5),\n",
        "            max_df=trial.suggest_float('max_df', 0.8, 1.0),\n",
        "            sublinear_tf=trial.suggest_categorical('sublinear_tf', [False, True]),\n",
        "            stop_words=trial.suggest_categorical('stop_words', [None, 'english'])\n",
        "        )),\n",
        "        ('classifier', XGBClassifier(\n",
        "            learning_rate=trial.suggest_float('learning_rate', 0.01, 0.2, log=True),\n",
        "            subsample=trial.suggest_float('subsample', 0.6, 1.0),\n",
        "            max_depth=trial.suggest_int('max_depth', 3, 7),\n",
        "            n_estimators=trial.suggest_categorical('n_estimators', [50, 100, 200])\n",
        "        )),\n",
        "    ])\n",
        "\n",
        "    # Entrenar el modelo\n",
        "    pipeline_model.fit(X_train, y_train)\n",
        "\n",
        "    # Realizar predicciones en conjunto de prueba\n",
        "    y_test_pred = pipeline_model.predict(X_test)\n",
        "\n",
        "    # Calcular y devolver la inversa de la precisión como valor a minimizar\n",
        "    return 1.0 / accuracy_score(y_test, y_test_pred)\n",
        "\n",
        "# Configuración de Optuna\n",
        "study = optuna.create_study(direction='minimize')  # Queremos minimizar la inversa de la precisión\n",
        "study.optimize(objective, n_trials=1000)  # Ajusta n_trials según tus recursos\n",
        "\n",
        "# Obtener el mejor modelo\n",
        "best_model = study.best_trial.user_attrs.get('best_model', None)\n",
        "\n",
        "# Imprimir los mejores parámetros encontrados\n",
        "print(\"Mejores parámetros encontrados:\")\n",
        "print(study.best_params)\n"
      ],
      "metadata": {
        "id": "QzVgMS4OPKua"
      },
      "execution_count": null,
      "outputs": []
    },
    {
      "cell_type": "markdown",
      "source": [
        "### **4. Conclusiones**"
      ],
      "metadata": {
        "id": "FG8hyp47N1Ye"
      }
    },
    {
      "cell_type": "markdown",
      "source": [
        "Al tener tan pocos datos es difícil reducir el overfitting. Ajustando los hiperparámetros hemos conseguido bajarlo a 4.72%. Si subíamos la accuracy, el overfitting seguía siendo alto, así que optamos por la opción que más bajaba el overfitting sin perjudicar demasiado al accuracy.\n",
        "\n",
        "Se nos ocurren 2 alternativas:\n",
        "\n",
        "Una opción interesante de probar sería aumentar el conjunto de datos uniendo el dataset inicial a algún otro que contenga mensajes de odio.\n",
        "\n",
        "Otra opción sería probar algún modelo preentrenado de hugging face, de manera que la escasez de datos no afecte al entrenamiento."
      ],
      "metadata": {
        "id": "iTfu69sZ_SRA"
      }
    }
  ],
  "nbformat": 4,
  "nbformat_minor": 0,
  "metadata": {
    "colab": {
      "provenance": []
    },
    "deepnote": {},
    "kernelspec": {
      "name": "python3",
      "display_name": "Python 3"
    },
    "language_info": {
      "name": "python"
    },
    "orig_nbformat": 2,
    "deepnote_notebook_id": "0602f3c60ad5434eb9cd9cc2bc2f3fc4",
    "deepnote_execution_queue": []
  }
}